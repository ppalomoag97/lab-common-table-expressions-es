{
 "cells": [
  {
   "cell_type": "markdown",
   "id": "31807e5d",
   "metadata": {},
   "source": [
    "# Expresiones de tabla común\n",
    "\n",
    "Usando la base de datos Northwind\n",
    "## 1. Escribe una CTE que liste los nombres y cantidades de los productos con un precio unitario mayor a $50."
   ]
  },
  {
   "cell_type": "markdown",
   "id": "8be0e96f",
   "metadata": {},
   "source": [
    "```sql\n",
    "USE Northwind;\n",
    "\n",
    "WITH cte_mayor50 AS (\n",
    "    SELECT *\n",
    "    FROM products as p\n",
    "    where p.price>50\n",
    ")\n",
    "SELECT ProductName, Unit\n",
    "FROM cte_mayor50;\n",
    "\n",
    "```"
   ]
  },
  {
   "cell_type": "markdown",
   "id": "2c9697c9",
   "metadata": {},
   "source": [
    "#### Expected results\n",
    "\n",
    "|ProductName                     |Unit|\n",
    "|--------------------------------|----|\n",
    "|Mishi Kobe Niku                 |18 - 500 g pkgs.|\n",
    "|Carnarvon Tigers                |16 kg pkg.|\n",
    "|Sir Rodney's Marmalade          |30 gift boxes|\n",
    "|Thüringer Rostbratwurst         |50 bags x 30 sausgs.|\n",
    "|Côte de Blaye                   |12 - 75 cl bottles|\n",
    "|Manjimup Dried Apples           |50 - 300 g pkgs.|\n",
    "|Raclette Courdavault            |5 kg pkg.|\n"
   ]
  },
  {
   "cell_type": "markdown",
   "id": "1dc2612a",
   "metadata": {},
   "source": [
    "## 2. ¿Cuáles son los 5 productos más rentables?"
   ]
  },
  {
   "cell_type": "markdown",
   "id": "a0f2d37a",
   "metadata": {},
   "source": [
    "```sql\n",
    "WITH cte_rentable AS (\n",
    "    SELECT  P.ProductID,\n",
    "\t\t\tP.ProductName,\n",
    "\t\t\tsum(o.quantity*p.price) as TotalRevenue\n",
    "    FROM products as p\n",
    "\t\tJOIN orderdetails as o\n",
    "\t\tON p.ProductID = o.ProductID\n",
    "    GROUP BY P.ProductID,P.ProductName\n",
    "ORDER BY TotalRevenue DESC\n",
    ")\n",
    "SELECT ProductID,ProductName,TotalRevenue\n",
    "FROM cte_rentable\n",
    "ORDER BY TotalRevenue DESC\n",
    "LIMIT 6;\n",
    "```"
   ]
  },
  {
   "cell_type": "markdown",
   "id": "4ff56e03",
   "metadata": {},
   "source": [
    "#### Expected results\n",
    "Alice Mutton is 6th\n",
    "\n",
    "|ProductID                       |ProductName|TotalRevenue|\n",
    "|--------------------------------|-----------|------------|\n",
    "|-                             |-|-       |\n",
    "|-                           |-|-       |\n",
    "|-                            |-|-       |\n",
    "|-                             |-|-       |\n",
    "|-                              |-|-       |\n",
    "|17                              |Alice Mutton|12909       |"
   ]
  },
  {
   "cell_type": "markdown",
   "id": "4bb46f4d",
   "metadata": {},
   "source": [
    "## 3. Escribe una CTE que liste las 5 categorías principales según el número de productos que tienen."
   ]
  },
  {
   "cell_type": "markdown",
   "id": "5dad5f54",
   "metadata": {},
   "source": [
    "```sql\n",
    "WITH cte_categoria AS (\n",
    "   SELECT  c.CategoryName ,\n",
    "\t\tCOUNT(DISTINCT p.ProductID) as ProductCount\n",
    "    FROM categories as c\n",
    "\t\tJOIN products as p\n",
    "\t\tON c.CategoryID = p.CategoryID\n",
    "    GROUP BY c.CategoryName \n",
    "    ORDER BY ProductCount DESC\n",
    ")\n",
    "SELECT CategoryName,ProductCount\n",
    "FROM cte_categoria\n",
    "LIMIT 5;\n",
    "```"
   ]
  },
  {
   "cell_type": "markdown",
   "id": "93cd676e",
   "metadata": {},
   "source": [
    "#### Expected result\n",
    "|CategoryName                    |ProductCount|\n",
    "|--------------------------------|------------|\n",
    "|Confections                     |13          |\n",
    "|Beverages                       |12          |\n",
    "|Condiments                      |12          |\n",
    "|Seafood                         |12          |\n",
    "|Dairy Products                  |10          |\n"
   ]
  },
  {
   "cell_type": "markdown",
   "id": "4818e498",
   "metadata": {},
   "source": [
    "## 4. Escribe una CTE que muestre la cantidad promedio de pedidos para cada categoría de producto."
   ]
  },
  {
   "cell_type": "markdown",
   "id": "79d18b03",
   "metadata": {},
   "source": [
    "```sql\n",
    "WITH cte_promedio AS (\n",
    "   SELECT  c.CategoryName ,\n",
    "\t\tavg(od.quantity) as AvgOrderQuantity\n",
    "    FROM categories as c\n",
    "\t\tJOIN products as p\n",
    "\t\tON c.CategoryID = p.CategoryID\n",
    "        JOIN orderdetails as od\n",
    "\t\tON p.ProductID = od.ProductID\n",
    "    GROUP BY c.CategoryName \n",
    "    ORDER BY AvgOrderQuantity DESC\n",
    ")\n",
    "SELECT CategoryName, AvgORderQuantity\n",
    "FROM cte_promedio;\n",
    "\n",
    "```"
   ]
  },
  {
   "cell_type": "markdown",
   "id": "2b37466f",
   "metadata": {},
   "source": [
    "|CategoryName                    |AvgOrderQuantity|\n",
    "|--------------------------------|----------------|\n",
    "|Beverages                       |24.6129         |\n",
    "|Condiments                      |28.2245         |\n",
    "|Confections                     |25.1190         |\n",
    "|Dairy Products                  |26.0100         |\n",
    "|Grains/Cereals                  |21.7143         |\n",
    "|Meat/Poultry                    |25.7600         |\n",
    "|Produce                         |21.6667         |\n",
    "|Seafood                         |21.5672         |\n"
   ]
  },
  {
   "cell_type": "markdown",
   "id": "1c52c56d",
   "metadata": {},
   "source": [
    "# 5. Crea una CTE para calcular el importe medio de los pedidos para cada cliente."
   ]
  },
  {
   "cell_type": "markdown",
   "id": "a7a4c8a6",
   "metadata": {},
   "source": [
    "```sql\n",
    "WITH cte_promedio_pedido AS (\n",
    "   SELECT  c.CustomerID,\n",
    "\t\t   c.CustomerName,\n",
    "\t\t   avg(od.quantity*p.Price) as AvgOrderAmount\n",
    "    FROM customers as c\n",
    "\t\tJOIN orders as o\n",
    "\t\tON c.CustomerID = o.CustomerID\n",
    "        JOIN orderdetails as od\n",
    "\t\tON o.OrderID = od.OrderID\n",
    "        JOIN products as p\n",
    "\t\tON p.ProductID = od.ProductID\n",
    "    GROUP BY c.CustomerID, c.CustomerName\n",
    "    ORDER BY AvgOrderAmount DESC\n",
    ")\n",
    "SELECT CustomerID, CustomerName, AvgOrderAmount\n",
    "FROM cte_promedio_pedido;\n",
    "\n",
    "\n",
    "```"
   ]
  },
  {
   "cell_type": "markdown",
   "id": "87f8ad8a",
   "metadata": {},
   "source": [
    "|CustomerID                      |CustomerName|AvgOrderAmount|\n",
    "|--------------------------------|------------|--------------|\n",
    "|59                              |Piccolo und mehr|4014.2500     |\n",
    "|73                              |Simons bistro|2444.3333     |\n",
    "|62                              |Queen Cozinha|1991.6667     |\n",
    "|51                              |Mère Paillarde|1673.8571     |\n",
    "|71                              |Save-a-lot Markets|1407.2500     |\n",
    "|76                              |Suprêmes délices|1345.8333     |\n",
    "|81                              |Tradição Hipermercados|1315.6667     |\n",
    "|7                               |Blondel père et fils|1174.4615     |\n",
    "|89                              |White Clover Markets|1112.5000     |\n",
    "|55                              |Old World Delicatessen|1079.5000     |\n",
    "|20                              |Ernst Handel|1018.0000     |\n",
    "|19                              |Eastern Connection|1004.8000     |\n",
    "|68                              |Richter Supermarkt|976.6667      |\n",
    "|72                              |Seven Seas Imports|934.0000      |\n",
    "|63                              |QUICK-Stop  |908.5500      |\n",
    "|25                              |Frankenversand|895.0667      |\n",
    "|75                              |Split Rail Beer & Ale|854.7692      |\n",
    "|65                              |Rattlesnake Canyon Grocery|838.2727      |\n",
    "|52                              |Morgenstern Gesundkost|754.0000      |\n",
    "|9                               |Bon app''   |750.4286      |\n",
    "|37                              |Hungry Owl All-Night Grocers|733.5714      |\n",
    "|35                              |HILARIÓN-Abastos|722.8333      |\n",
    "|33                              |GROSELLA-Restaurante|690.0000      |\n",
    "|34                              |Hanari Carnes|681.0000      |\n",
    "|15                              |Comércio Mineiro|677.5000      |\n",
    "|23                              |Folies gourmandes|672.3333      |\n",
    "|10                              |Bottom-Dollar Marketse|664.0000      |\n",
    "|31                              |Gourmet Lanchonetes|641.0000      |\n",
    "|60                              |Princesa Isabel Vinhoss|628.5000      |\n",
    "|5                               |Berglunds snabbköp|601.5556      |\n",
    "|46                              |LILA-Supermercado|564.7692      |\n",
    "|44                              |Lehmanns Marktstand|545.7500      |\n",
    "|30                              |Godos Cocina Típica|515.0000      |\n",
    "|3                               |Antonio Moreno Taquería|504.0000      |\n",
    "|88                              |Wellington Importadora|503.8333      |\n",
    "|47                              |LINO-Delicateses|500.0000      |\n",
    "|56                              |Ottilies Käseladen|500.0000      |\n",
    "|87                              |Wartian Herkku|492.5833      |\n",
    "|24                              |Folk och fä HB|480.2222      |\n",
    "|49                              |Magazzini Alimentari Riuniti|464.2857      |\n",
    "|86                              |Die Wandernde Kuh|441.9091      |\n",
    "|41                              |La maison d''Asie|437.8182      |\n",
    "|8                               |Bólido Comidas preparadas|416.0000      |\n",
    "|83                              |Vaffeljernet|411.0000      |\n",
    "|14                              |Chop-suey Chinese|374.8333      |\n",
    "|80                              |Tortuga Restaurante|357.4167      |\n"
   ]
  },
  {
   "cell_type": "markdown",
   "id": "0afe0ce7",
   "metadata": {},
   "source": [
    "# 6. Análisis de Ventas con CTEs\n",
    "\n",
    "Suponiendo que tenemos la base de datos Northwind que contiene tablas como Orders, OrderDetails y Products. Crea una CTE que calcule las ventas totales para cada producto en el año 1997."
   ]
  },
  {
   "cell_type": "markdown",
   "id": "ab69696b",
   "metadata": {},
   "source": [
    "```sql\n",
    "WITH cte_ventas_1997 AS (\n",
    "   SELECT  \tP.ProductName,\n",
    "\t\t\tsum(od.quantity) as TotalSales\n",
    "    FROM products as p\n",
    "\t\tJOIN orderdetails as od\n",
    "\t\tON p.ProductID = od.ProductID\n",
    "        JOIN orders as o\n",
    "        ON od.OrderID = o.OrderID\n",
    "\tWHERE YEAR(o.OrderDate)=1997\n",
    "    GROUP BY p.ProductName\n",
    "ORDER BY TotalSales DESC\n",
    ")\n",
    "SELECT ProductName, TotalSales\n",
    "FROM cte_ventas_1997;\n",
    "\n",
    " ```"
   ]
  },
  {
   "cell_type": "markdown",
   "id": "53cee109",
   "metadata": {},
   "source": [
    "#### Expected result\n",
    "\n",
    "|ProductName                     |TotalSales|\n",
    "|--------------------------------|----------|\n",
    "|Gnocchi di nonna Alice          |173       |\n",
    "|Tourtière                       |126       |\n",
    "|Geitost                         |119       |\n",
    "|Chang                           |115       |\n",
    "|Raclette Courdavault            |115       |\n",
    "|Sirop d'érable                  |106       |\n",
    "|Vegie-spread                    |100       |\n",
    "|Côte de Blaye                   |99        |\n",
    "|Alice Mutton                    |97        |\n",
    "|Steeleye Stout                  |95        |\n",
    "|Sir Rodney's Scones             |92        |\n",
    "|Pavlova                         |86        |\n",
    "|Zaanse koeken                   |85        |\n",
    "|Fløtemysost                     |75        |\n",
    "|Tarte au sucre                  |75        |\n"
   ]
  }
 ],
 "metadata": {
  "kernelspec": {
   "display_name": "Python 3 (ipykernel)",
   "language": "python",
   "name": "python3"
  },
  "language_info": {
   "codemirror_mode": {
    "name": "ipython",
    "version": 3
   },
   "file_extension": ".py",
   "mimetype": "text/x-python",
   "name": "python",
   "nbconvert_exporter": "python",
   "pygments_lexer": "ipython3",
   "version": "3.10.12"
  },
  "nbTranslate": {
   "displayLangs": [
    "en",
    "es"
   ],
   "hotkey": "alt-a",
   "langInMainMenu": true,
   "sourceLang": "es",
   "targetLang": "en",
   "useGoogleTranslate": true
  }
 },
 "nbformat": 4,
 "nbformat_minor": 5
}
